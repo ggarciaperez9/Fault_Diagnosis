{
  "nbformat": 4,
  "nbformat_minor": 0,
  "metadata": {
    "colab": {
      "name": "SparkTutorial.ipynb",
      "provenance": [],
      "collapsed_sections": [],
      "toc_visible": true,
      "include_colab_link": true
    },
    "kernelspec": {
      "name": "python3",
      "display_name": "Python 3"
    }
  },
  "cells": [
    {
      "cell_type": "markdown",
      "metadata": {
        "id": "view-in-github",
        "colab_type": "text"
      },
      "source": [
        "<a href=\"https://colab.research.google.com/github/ggarciaperez9/Fault_Diagnosis/blob/master/SparkTutorial.ipynb\" target=\"_parent\"><img src=\"https://colab.research.google.com/assets/colab-badge.svg\" alt=\"Open In Colab\"/></a>"
      ]
    },
    {
      "cell_type": "code",
      "metadata": {
        "id": "Do1U0yxBG4q3",
        "colab_type": "code",
        "colab": {}
      },
      "source": [
        "!apt-get install openjdk-8-jdk-headless -qq > /dev/null\n",
        "!wget -q http://www-us.apache.org/dist/spark/spark-2.3.1/spark-2.3.1-bin-hadoop2.7.tgz\n",
        "!tar xf spark-2.3.1-bin-hadoop2.7.tgz\n",
        "!pip install -q findspark\n",
        "!wget -q http://188.165.231.140/pub/bigdata-spark/raw/master/war-and-peace.txt"
      ],
      "execution_count": 0,
      "outputs": []
    },
    {
      "cell_type": "code",
      "metadata": {
        "id": "Fi0Ox-hdHH2O",
        "colab_type": "code",
        "colab": {}
      },
      "source": [
        "import os\n",
        "os.environ[\"JAVA_HOME\"] = \"/usr/lib/jvm/java-8-openjdk-amd64\"\n",
        "os.environ[\"SPARK_HOME\"] = \"/content/spark-2.3.1-bin-hadoop2.7\""
      ],
      "execution_count": 0,
      "outputs": []
    },
    {
      "cell_type": "code",
      "metadata": {
        "id": "zEoFg4aAHIXK",
        "colab_type": "code",
        "colab": {}
      },
      "source": [
        "import findspark\n",
        "findspark.init()\n",
        "from pyspark import SparkContext\n",
        "\n",
        "sc = SparkContext.getOrCreate()"
      ],
      "execution_count": 0,
      "outputs": []
    },
    {
      "cell_type": "code",
      "metadata": {
        "id": "cLzjVyAlHKnF",
        "colab_type": "code",
        "colab": {}
      },
      "source": [
        "sc"
      ],
      "execution_count": 0,
      "outputs": []
    },
    {
      "cell_type": "code",
      "metadata": {
        "id": "cLOUmmXwHPUa",
        "colab_type": "code",
        "colab": {}
      },
      "source": [
        "# A helper function to compute the list of words in a line of text\n",
        "import re\n",
        "def get_words(line):\n",
        "    return re.compile('\\w+').findall(line)\n",
        "\n",
        "print(get_words(\"This, is a test!\"))"
      ],
      "execution_count": 0,
      "outputs": []
    },
    {
      "cell_type": "markdown",
      "metadata": {
        "id": "Bhp1h9qYVSOg",
        "colab_type": "text"
      },
      "source": [
        "### Learning activity: Create RDD with `parallelize`\n",
        "Transform the list `words` into an rdd. The count should return `3`"
      ]
    },
    {
      "cell_type": "code",
      "metadata": {
        "id": "nTjbrrfLU4CV",
        "colab_type": "code",
        "colab": {}
      },
      "source": [
        ""
      ],
      "execution_count": 0,
      "outputs": []
    },
    {
      "cell_type": "markdown",
      "metadata": {
        "id": "5TTiB3bnVVr7",
        "colab_type": "text"
      },
      "source": [
        "### Learning activity: Create RDDs"
      ]
    },
    {
      "cell_type": "markdown",
      "metadata": {
        "id": "2dkDdhzUVaZp",
        "colab_type": "text"
      },
      "source": [
        "To analyse large datasets using Spark you will load them into Resilient Distributed Datasets (RDDs). There are a number of ways in which you can create RDDs. Use the `parallelize()` function to create one from a Python collection, and use the `textFile()` function to create an RDD from the file `data/war-and-peace.txt`. "
      ]
    },
    {
      "cell_type": "code",
      "metadata": {
        "id": "oRhnaqzEVpSC",
        "colab_type": "code",
        "colab": {}
      },
      "source": [
        ""
      ],
      "execution_count": 0,
      "outputs": []
    },
    {
      "cell_type": "markdown",
      "metadata": {
        "id": "wCaLGNW_Vjq7",
        "colab_type": "text"
      },
      "source": [
        "### Learning activity: Basic RDD manipulation"
      ]
    },
    {
      "cell_type": "markdown",
      "metadata": {
        "id": "rlU_aPA2VZYy",
        "colab_type": "text"
      },
      "source": [
        "Print the number of lines in War and Peace using the method `count()`"
      ]
    },
    {
      "cell_type": "code",
      "metadata": {
        "id": "SDfpIO-SVs0i",
        "colab_type": "code",
        "colab": {}
      },
      "source": [
        ""
      ],
      "execution_count": 0,
      "outputs": []
    },
    {
      "cell_type": "markdown",
      "metadata": {
        "id": "BTfuFazxVtUm",
        "colab_type": "text"
      },
      "source": [
        "Print the first 15 lines using the method `take()`."
      ]
    },
    {
      "cell_type": "code",
      "metadata": {
        "id": "51CrCRKNVv_8",
        "colab_type": "code",
        "colab": {}
      },
      "source": [
        ""
      ],
      "execution_count": 0,
      "outputs": []
    },
    {
      "cell_type": "markdown",
      "metadata": {
        "id": "1y33wx4rVwf4",
        "colab_type": "text"
      },
      "source": [
        "### Learning activity: `filter()` and `map()` and `distinct()`"
      ]
    },
    {
      "cell_type": "markdown",
      "metadata": {
        "id": "hQgOWckRV2qn",
        "colab_type": "text"
      },
      "source": [
        "Use `filter()` to count the number of lines which mention `war` and the number of lines which mention `peace`."
      ]
    },
    {
      "cell_type": "code",
      "metadata": {
        "id": "2_iWzSb3Vyh9",
        "colab_type": "code",
        "colab": {}
      },
      "source": [
        "# How often is war mentioned?"
      ],
      "execution_count": 0,
      "outputs": []
    },
    {
      "cell_type": "code",
      "metadata": {
        "id": "tg4i7723V9Hx",
        "colab_type": "code",
        "colab": {}
      },
      "source": [
        "# How often is peace mentioned?"
      ],
      "execution_count": 0,
      "outputs": []
    },
    {
      "cell_type": "markdown",
      "metadata": {
        "id": "e9vKjSRTWAcJ",
        "colab_type": "text"
      },
      "source": [
        "Use `map()` to capitalise each line in the RDD, and print the first 15 capitalized lines."
      ]
    },
    {
      "cell_type": "code",
      "metadata": {
        "id": "SfvO8Qi3V-py",
        "colab_type": "code",
        "colab": {}
      },
      "source": [
        "# Capitalize each line in the RDD"
      ],
      "execution_count": 0,
      "outputs": []
    },
    {
      "cell_type": "markdown",
      "metadata": {
        "id": "5yQRV0nSWFZA",
        "colab_type": "text"
      },
      "source": [
        "Use `flatMap()` to create an RDD of the words in War and Peace and count the number of words."
      ]
    },
    {
      "cell_type": "code",
      "metadata": {
        "id": "b6HkaxaUWCPe",
        "colab_type": "code",
        "colab": {}
      },
      "source": [
        "# Split each line into words using get_words()"
      ],
      "execution_count": 0,
      "outputs": []
    },
    {
      "cell_type": "markdown",
      "metadata": {
        "id": "g_lC8xYDWJtr",
        "colab_type": "text"
      },
      "source": [
        "Finally, use `distinct()` to count the number of different words in the RDD."
      ]
    },
    {
      "cell_type": "code",
      "metadata": {
        "id": "yWVbcCiJWHwo",
        "colab_type": "code",
        "colab": {}
      },
      "source": [
        "# Count the number of distinct words"
      ],
      "execution_count": 0,
      "outputs": []
    },
    {
      "cell_type": "markdown",
      "metadata": {
        "id": "4-_kWZDqWPxp",
        "colab_type": "text"
      },
      "source": [
        "### Learning activity: Set like transformations"
      ]
    },
    {
      "cell_type": "markdown",
      "metadata": {
        "id": "2OT9ilbKWSMN",
        "colab_type": "text"
      },
      "source": [
        "Use the function `union()` to create an RDD of lines with either war or peace mentioned. Count how many lines."
      ]
    },
    {
      "cell_type": "code",
      "metadata": {
        "id": "fHgEx4YRWLm7",
        "colab_type": "code",
        "colab": {}
      },
      "source": [
        ""
      ],
      "execution_count": 0,
      "outputs": []
    },
    {
      "cell_type": "markdown",
      "metadata": {
        "id": "z561x05hWVFs",
        "colab_type": "text"
      },
      "source": [
        "Use the function `intersection()` to create an RDD of lines with both war and peace being mentioned. Count how many lines."
      ]
    },
    {
      "cell_type": "code",
      "metadata": {
        "id": "I9WMQvRuWVgE",
        "colab_type": "code",
        "colab": {}
      },
      "source": [
        ""
      ],
      "execution_count": 0,
      "outputs": []
    },
    {
      "cell_type": "markdown",
      "metadata": {
        "id": "MdUziWFFWXxx",
        "colab_type": "text"
      },
      "source": [
        "Find all the lines that mention both war and peace without using `intersection()`"
      ]
    },
    {
      "cell_type": "code",
      "metadata": {
        "id": "biFCZBmSWYBh",
        "colab_type": "code",
        "colab": {}
      },
      "source": [
        ""
      ],
      "execution_count": 0,
      "outputs": []
    },
    {
      "cell_type": "markdown",
      "metadata": {
        "id": "k6M7TjOqWZ8c",
        "colab_type": "text"
      },
      "source": [
        "### Learning activity: `reduce()`"
      ]
    },
    {
      "cell_type": "markdown",
      "metadata": {
        "id": "ijmNvFZSWa3_",
        "colab_type": "text"
      },
      "source": [
        "You have already seen three actions: `collect()` which returns all elements in the RDD, `take(n)`, which return the first `n` elements of the RDD, and `count()` which returns the number of elements in the RDD.\n",
        "\n",
        "The action `reduce()` takes as input a function which collapses two elements into one. Use it to find the longest word in War and Peace."
      ]
    },
    {
      "cell_type": "code",
      "metadata": {
        "id": "cakZqxKnWaQM",
        "colab_type": "code",
        "colab": {}
      },
      "source": [
        ""
      ],
      "execution_count": 0,
      "outputs": []
    },
    {
      "cell_type": "markdown",
      "metadata": {
        "id": "gFRJWkloWhij",
        "colab_type": "text"
      },
      "source": [
        "The Python function `str.istitle()` returns `True` if the string `str` is titlecased: the first character is uppercase and others are lowercase. Use it to:\n",
        "* Find the set of distinct words in War and Peace which are titlecased\n",
        "* Find the set of distinct words in War and Peace which are not titlecased\n",
        "\n",
        "The Python function `str.lower()` returns a string with all characters of str lowercase. Use it, along with your previously generated RDD to find the set of words in War and Peace which only appear titlecased."
      ]
    },
    {
      "cell_type": "code",
      "metadata": {
        "id": "K3puUD6NWiBX",
        "colab_type": "code",
        "colab": {}
      },
      "source": [
        ""
      ],
      "execution_count": 0,
      "outputs": []
    },
    {
      "cell_type": "markdown",
      "metadata": {
        "id": "q-gtTEV4WnZ-",
        "colab_type": "text"
      },
      "source": [
        "### Learning activity: WordCount in Spark\n",
        "\n",
        "Use the functions `flatMap()` and `reduceByKey()` to count the number of occurences of each word in War and Peace, and print the count of five words."
      ]
    },
    {
      "cell_type": "code",
      "metadata": {
        "id": "Bn5vN8HVWj_R",
        "colab_type": "code",
        "colab": {}
      },
      "source": [
        ""
      ],
      "execution_count": 0,
      "outputs": []
    },
    {
      "cell_type": "markdown",
      "metadata": {
        "id": "JjVCf2kPWtD-",
        "colab_type": "text"
      },
      "source": [
        "### Learning activity: using `groupByKey()`\n",
        "Reimplement the above word count using `groupByKey()` instead of `reduceByKey()`"
      ]
    },
    {
      "cell_type": "code",
      "metadata": {
        "id": "yoD4OJIuWviR",
        "colab_type": "code",
        "colab": {}
      },
      "source": [
        ""
      ],
      "execution_count": 0,
      "outputs": []
    }
  ]
}